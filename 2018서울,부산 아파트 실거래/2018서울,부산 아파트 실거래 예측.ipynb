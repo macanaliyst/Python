{
 "cells": [
  {
   "cell_type": "code",
   "execution_count": 1,
   "id": "619665c1",
   "metadata": {},
   "outputs": [],
   "source": [
    "import os \n",
    "import pandas as pd\n",
    "import numpy as np\n",
    "import pickle\n",
    "\n",
    "from scipy.stats import kstest\n",
    "from scipy.stats import f_oneway \n",
    "from statsmodels.stats.multicomp import pairwise_tukeyhsd\n",
    "\n",
    "from sklearn.impute import SimpleImputer\n",
    "from sklearn.model_selection import train_test_split\n",
    "from sklearn.preprocessing import OneHotEncoder\n",
    "from sklearn.preprocessing import MinMaxScaler\n",
    "from sklearn.feature_selection import SelectKBest\n",
    "from sklearn.feature_selection import f_regression\n",
    "from sklearn.model_selection import ParameterGrid\n",
    "from sklearn.metrics import mean_absolute_error as MAE\n",
    "\n",
    "from xgboost import XGBRegressor as XGB\n",
    "from lightgbm import LGBMRegressor as LGB\n",
    "\n",
    "from matplotlib import pyplot as plt\n",
    "plt.rcParams['font.family'] = 'Malgun Gothic'\n",
    "plt.rcParams['figure.figsize'] = (15,5)"
   ]
  },
  {
   "cell_type": "code",
   "execution_count": null,
   "id": "5c0ecb21",
   "metadata": {},
   "outputs": [],
   "source": [
    "# data loding\n",
    "# 서울시, 부산 2016 ~ 2017 실거래 데이터\n",
    "df = pd.read_csv(\"sampled_train.csv\") \n",
    "\n",
    "# merge를 위한 참조 데이터 \n",
    "ref_df = pd.read_excel(\"한국행정구역분류.xlsx\", sheet_name = '법정동코드 연계 자료분석용',\n",
    "                       header = 1)\n",
    "\n",
    "# 구별 특성 데이터 \n",
    "park_df = pd.read_csv(\"park.csv\") #encoding = 'utf-8')\n",
    "day_care_center_df = pd.read_csv(\"day_care_center.csv\")"
   ]
  },
  {
   "cell_type": "markdown",
   "id": "99f58188",
   "metadata": {},
   "source": [
    "#### ref_df 전처리"
   ]
  },
  {
   "cell_type": "code",
   "execution_count": null,
   "id": "13c7f042",
   "metadata": {},
   "outputs": [],
   "source": [
    "#transaction_real_price -> Y 로 변경\n",
    "df.rename({'transaction_real_price' : 'Y'},axis = 1, inplace = True)\n",
    "\n",
    "#df 불필요 변수 제거\n",
    "df.drop(['transaction_id', 'addr_kr'], axis = 1, inplace = True)\n",
    "\n",
    "#ref_df 필요변수 선택 및 변수명 df 와 일치 \n",
    "ref_df = ref_df[['시도','시군구','법정동']]\n",
    "ref_df.rename({'시도' : 'city',\n",
    "               '시군구' : 'gu',\n",
    "               '법정동' : 'dong'}, axis = 1 , inplace = True)\n",
    "ref_df = ref_df.loc[ref_df['city'].isin(['서울특별시', '부산광역시'])]\n",
    "\n",
    "#df 시-동 중 ref_df 에 없는 데이터 - 부산 정관읍 용수리\n",
    "#city_dong_unique.loc[~np.isin(city_dong_unique['dong'], ref_df['dong'])]\n",
    "\n",
    "#ref_df 에는 정관읍, 용수리 둘다 있음\n",
    "#ref_df.loc[ref_df['dong'] == '정관읍']\n",
    "\n",
    "#df에 정관읍, 용수리로 되어있는 data는 없음\n",
    "#df.loc[df['dong'] == '용수리']\n",
    "\n",
    "#따라서 정관읍 용수리 -> 정관읍으로 변경\n",
    "df.loc[df['dong'] == '정관읍 용수리','dong'] = '정관읍'\n",
    "\n",
    "#df 시-동 unique - 61가지\n",
    "city_dong_unique = df.drop_duplicates(['city', 'dong'])[['city','dong']]\n",
    "#city_dong_unique 에 gu 부착\n",
    "city_dong_unique = city_dong_unique.merge(ref_df, how = 'left', on = ['city', 'dong']).drop_duplicates(['dong'])"
   ]
  },
  {
   "cell_type": "code",
   "execution_count": 144,
   "id": "a0ee1243",
   "metadata": {},
   "outputs": [],
   "source": [
    "# 구변수 부착\n",
    "df = df.merge(city_dong_unique, how = 'left',on = ['city','dong'])\n",
    "\n",
    "# transaction_year_month 로 year, month 데이터 생성\n",
    "df['year'] = pd.to_datetime(df['transaction_year_month'], format = \"%Y%m\").dt.year\n",
    "df['month'] = pd.to_datetime(df['transaction_year_month'], format = \"%Y%m\").dt.month\n",
    "df.drop(['transaction_year_month'], axis = 1, inplace = True)\n",
    "\n",
    "# year of completion 으로 아파트별 age 변수 생성\n",
    "df['age'] = df['year'] - df['year_of_completion']\n",
    "\n",
    "# floor 평균 가격에 근거하여 floor level 변수 생성 - 아래 시각화 참조\n",
    "def floor_level(x):\n",
    "    if x < 26 :\n",
    "        return 'low'\n",
    "    elif x < 52 :\n",
    "        return 'middle'\n",
    "    elif x < 72 :\n",
    "        return 'high'\n",
    "    else :\n",
    "        return 'very high'\n",
    "    \n",
    "df['floor_level'] = df['floor'].apply(floor_level)"
   ]
  },
  {
   "cell_type": "code",
   "execution_count": null,
   "id": "bad78831",
   "metadata": {},
   "outputs": [],
   "source": [
    "#시세 변수 추가\n",
    "\n",
    "#구별 전체 평균 시세\n",
    "mean_price_per_gu = df.groupby(['city','gu'], as_index = False)['Y'].mean()\n",
    "mean_price_per_gu.sort_values(by = 'Y', inplace =True)\n",
    "mean_price_per_gu.rename({'Y' : '구별_평균_시세'}, axis = 1, inplace = True)\n",
    "df = df.merge(mean_price_per_gu, how = 'left', on = ['city','gu'])\n",
    "\n",
    "#구별 가격 차이 범주 - 아래 시각화 bar plot 참조\n",
    "def gu_price_level(x):\n",
    "    if x <= 49633 :\n",
    "        return 'cheap'\n",
    "    elif x < 90000 :\n",
    "        return 'resonable'\n",
    "    else :\n",
    "        return 'expensive'\n",
    "price_level_gu = mean_price_per_gu.copy()\n",
    "price_level_gu['price_level_gu'] = price_level_gu['구별_평균_시세'].apply(gu_price_level)\n",
    "price_level_gu.drop('구별_평균_시세',axis = 1, inplace = True)\n",
    "df = df.merge(price_level_gu, how = 'left', on = ['city', 'gu'])\n",
    "\n",
    "#구별 작년 평균 시세, 구별 작년 거래량 변수\n",
    "mean_price_per_gu_year = df.groupby(['city','gu','year'], as_index = False)['Y'].agg(['mean','count']).reset_index()\n",
    "mean_price_per_gu_year['year'] = mean_price_per_gu_year['year'] + 1 # year 통해 merge 2016을 2017\n",
    "mean_price_per_gu_year.rename({'mean' : \"구별_작년_평균_시세\",\n",
    "                               'count': '구별_작년_거래량'}, axis = 1, inplace = True)\n",
    "\n",
    "#구별 작년 평균 시세, 거래량 결측치 처리 : \n",
    "# 결측치 처리 근거\n",
    "# 1. 2015년 이후 전국 아파트 가격 상승\n",
    "# 2. 2016.1 : 100 // 2015.1 : 95 -> 평균적으로 5% 낮은 가격이다.\n",
    "# 3. 2016년 서울 아파트 거래량 보다 2015년 아파트 거래량이 9% 가량 많다 \n",
    "mean_price_per_gu_2015 = mean_price_per_gu_year.loc[mean_price_per_gu_year['year'] == 2017,]\n",
    "mean_price_per_gu_2015['year'] = 2016\n",
    "mean_price_per_gu_2015['구별_작년_평균_시세'] =  mean_price_per_gu_2015['구별_작년_평균_시세'] * 0.95\n",
    "mean_price_per_gu_2015['구별_작년_거래량'] =  round(mean_price_per_gu_2015['구별_작년_거래량'] * 1.09)\n",
    "mean_price_per_gu_year = pd.concat([mean_price_per_gu_year,mean_price_per_gu_2015], axis = 0, ignore_index= True).sort_values(['city','gu','year'])\n",
    "\n",
    "del mean_price_per_gu_2015\n",
    "\n",
    "# merge\n",
    "df = df.merge(mean_price_per_gu_year, how = 'left', on = ['city','gu','year'])\n",
    "\n",
    "#아파트별_평균가격 변수\n",
    "mean_price_per_apt = df.groupby('apartment_id', as_index = False)['Y'].mean()\n",
    "mean_price_per_apt.rename({\"Y\" : \"아파트별_평균_가격\"}, axis = 1, inplace = True)\n",
    "df = df.merge(mean_price_per_apt, on = 'apartment_id')"
   ]
  },
  {
   "cell_type": "markdown",
   "id": "7c848470",
   "metadata": {},
   "source": [
    "#### park_df, day_care_center_df 전처리 "
   ]
  },
  {
   "cell_type": "code",
   "execution_count": 150,
   "id": "88b1d3f3",
   "metadata": {},
   "outputs": [],
   "source": [
    "#변수 변환\n",
    "# *_facility 변수 nan->0 not.nan -> 1\n",
    "for k in park_df.columns[6:11]:\n",
    "    park_df.loc[~park_df[k].isnull(),k] = 1\n",
    "    park_df.loc[park_df[k].isnull(),k] = 0\n",
    "\n",
    "#변수 생성\n",
    "\n",
    "# 동별 공원 개수\n",
    "num_park_per_dong = park_df.groupby(['city','gu','dong'],as_index = False)['park_name'].count()\n",
    "num_park_per_dong.rename({'park_name' : 'num_park'}, axis = 1, inplace = True)\n",
    "df = df.merge(num_park_per_dong,how='left', on = ['city','gu','dong'])\n",
    "\n",
    "# 동별 facility 개수 \n",
    "num_facility_per_dong = park_df.groupby(['city','gu','dong'], as_index = False)[park_df.columns[6:11]].sum()\n",
    "df = df.merge(num_facility_per_dong,how = 'left', on = ['city','gu','dong'])\n",
    "\n",
    "#결측치 처리 -> 새로 붙인 것에 만약 결측이라면 시설이 없다는 것이다. nan -> 0\n",
    "df['num_park'].fillna(0,inplace=True)\n",
    "df['park_exercise_facility'].fillna(0,inplace=True)\n",
    "df['park_entertainment_facility'].fillna(0,inplace=True)\n",
    "df['park_benefit_facility'].fillna(0,inplace=True)\n",
    "df['park_cultural_facitiy'].fillna(0,inplace=True)\n",
    "df['park_facility_other'].fillna(0,inplace=True)"
   ]
  },
  {
   "cell_type": "code",
   "execution_count": 151,
   "id": "3d97eb77",
   "metadata": {
    "scrolled": false
   },
   "outputs": [],
   "source": [
    "#data loading\n",
    "day_care_center_df = pd.read_csv(\"day_care_center.csv\")\n",
    "\n",
    "#구별 유형별 어린이집 수\n",
    "day_care_per_gu = pd.crosstab(index=[day_care_center_df['city'],day_care_center_df['gu']],\n",
    "            columns=day_care_center_df['day_care_type'])\n",
    "day_care_per_gu = day_care_per_gu.add_suffix(\"_유치원_수\")\n",
    "day_care_per_gu.reset_index(inplace=True)\n",
    "\n",
    "#구별 어린이집 정원 수\n",
    "baby_num = day_care_center_df.groupby(['city','gu'],as_index = False)['day_care_baby_num'].sum()\n",
    "\n",
    "#생성변수 merge\n",
    "day_care_per_gu = day_care_per_gu.merge(baby_num,how='left',on = ['city','gu'])\n",
    "del baby_num\n",
    "\n",
    "#df와 merge\n",
    "df = df.merge(day_care_per_gu,how = 'left', on = ['city','gu'])\n",
    "\n",
    "#결측치 처리 -> 유치원이 없는 것은 말이 안됨. 추후 -> simply impute"
   ]
  },
  {
   "cell_type": "markdown",
   "id": "61aa9fd8",
   "metadata": {},
   "source": [
    "### EDA 및 변수 변형\n",
    "- EDA 시각화는 아래 시각화 참조"
   ]
  },
  {
   "cell_type": "code",
   "execution_count": 153,
   "id": "4cba4afe",
   "metadata": {},
   "outputs": [],
   "source": [
    "# Train, Test 분할\n",
    "Train,Test = train_test_split(df) # Train 27,012  # Test 9,004"
   ]
  },
  {
   "cell_type": "code",
   "execution_count": null,
   "id": "0a299d29",
   "metadata": {},
   "outputs": [],
   "source": [
    "# variable 탐색\n",
    "\n",
    "#apartment_id : 아파트 고유id로 현 데이터에 없는 아파트가 들어올 수 있기때문에 변수로 활용 X\n",
    "#이와관련된 파생 변수로 아파트별 평균 가격을 사용\n",
    "\n",
    "###################################################################################### city 생성\n",
    "# 부산, 서울시 데이터이기때문에  서울 : 1 / 부산 : 0 데이터로 변환\n",
    "Train['Seoul'] = (Train['city'] == '서울특별시').astype(int)\n",
    "Test['Seoul'] = (Test['city'] == '서울특별시').astype(int)\n",
    "\n",
    "######################################################################### 서울,부산 평균 시세 비교\n",
    "Train.groupby('city')['Y'].mean() # 서울 63,224 부산 33,751 로 유의미한 차이가 있어 보인다.\n",
    "#서울,부산 boxplot을 봤을 때 아웃라이어가 상당히 많음을 알 수 있음. \n",
    "#아웃라이어를 반영할 수 있는 좋은 방법이 필요해 보인다.\n",
    "\n",
    "####################################################################################### dong EDA \n",
    "\n",
    "#동별 평균 시세 - 상위 10개 동은 서울 9개 , 부산 1개 // 하위 10개 동은 부산 8개, 서울 2개\n",
    "Train.groupby(['city','gu','dong'],\n",
    "              as_index = False)['Y'].mean().sort_values(by = 'Y', ascending = False)\n",
    "\n",
    "############################################################################## mean_per_dong 생성 \n",
    "\n",
    "#구별 평균 시세 boxplot - 편차가 꽤 있는 구가 존재한다.\n",
    "#구별 모든 동에 대한 정보가 아니라 이정보를 사용하기에는 어렵다. \n",
    "\n",
    "mean_per_dong = Train.groupby(['city','gu','dong'],\n",
    "                              as_index = False)['Y'].agg(['mean','count']).reset_index()\n",
    "mean_per_dong.sort_values(by = 'mean', ascending = False).boxplot(column = 'mean', by= 'gu')\n",
    "\n",
    "# iqr 룰로 75,000을 넘으면 아웃라이어로 볼 수 있다.\n",
    "mean_per_dong['dong_outlier'] = (mean_per_dong['mean'] > 75000).astype(int)\n",
    "\n",
    "#구별로 outlier를 하려했지만 구별로 편차가 어느정도 존재도 하기 때문에 동별로 하는것이 더 정확해 보인다.\n",
    "#가정 : outlier가 특별한 이벤트로 그런것이 아니라 다른지역보다 비싼 것이다.\n",
    "\n",
    "mean_per_dong.drop(['mean','count'], axis = 1, inplace = True)\n",
    "\n",
    "#dong_outlier(동별 평균 시세 outlier 이진변수)부착\n",
    "Train = Train.merge(mean_per_dong, how = 'left', on = ['city','gu','dong'])\n",
    "Test = Test.merge(mean_per_dong, how = 'left', on = ['city','gu','dong'])\n",
    "\n",
    "######################################################################### exclusive_use_area EDA\n",
    "plt.scatter(Train['exclusive_use_area'],Train['Y'])\n",
    "#아파트 평수에 따른 것을 보았을 때 크게 두가지 선으로 나뉘는 것으로 보인다.\n",
    "\n",
    "plt.scatter(Train.loc[Train['Seoul'] == 1,'exclusive_use_area'],\n",
    "            Train.loc[Train['Seoul'] == 1,'Y'])\n",
    "\n",
    "plt.scatter(Train.loc[Train['Seoul'] == 0,'exclusive_use_area'],\n",
    "            Train.loc[Train['Seoul'] == 0,'Y'])\n",
    "#서울 부산으로 나누어 봤을 때 두가지 선으로 보이며 이는 서울 부산의 시세차이가 나는 것을 확인 할 수 있음.\n",
    "#부산의 특정 아파트 들은 서울의 아파트 보다 비싼 것으로 나타남.\n",
    "\n",
    "plt.scatter(Train.loc[Train['dong_outlier'] == 1,'exclusive_use_area'],\n",
    "            Train.loc[Train['dong_outlier'] == 1,'Y'])\n",
    "\n",
    "plt.scatter(Train.loc[Train['dong_outlier'] == 0,'exclusive_use_area'],\n",
    "            Train.loc[Train['dong_outlier'] == 0,'Y'])\n",
    "#dong_outlier 로 나누어 봤을 때 더 명확하게 나뉘는 것을 볼 수 있음.\n",
    "\n",
    "#################################################################### year_of_completion(age) EDA\n",
    "plt.scatter(Train['year_of_completion'],Train['Y'])\n",
    "#얼핏 2차함수 꼴을 보여준다.\n",
    "\n",
    "plt.scatter(Train.groupby('age',as_index = False)['Y'].mean()['age'],\n",
    "            Train.groupby('age',as_index = False)['Y'].mean()['Y'])\n",
    "#재건축?? \n",
    "plt.scatter(Train.loc[Train['dong_outlier'] == 1,'year_of_completion'],Train.loc[Train['dong_outlier'] == 1,'Y'])\n",
    "# 시세가 높은 동에서는 1990 ~ 2005 년에 완공된 아파트가 없다??\n",
    "# 일단 가정 1 : 신축아파트일수록 가격이 높다 -> 20년 될때까지는 하지만 그이상은 \n",
    "#              재건축 가능성으로 높아진다.\n",
    "\n",
    "###################################################################################### floor EDA\n",
    "Train.loc[Train['Y'] > 300000,'apartment_id']\n",
    "plt.scatter(Train.loc[Train['apartment_id'] == 4716,'floor'],\n",
    "            Train.loc[Train['apartment_id'] == 4716,'Y'])\n",
    "# 높은 층 일수록 많이 올라가지만 20층 이하에서도 300,000대 매물이 나온다\n",
    "# 11810 아파트를 보면 의문이 든다. 10년간 데이터도 아니고 2개년 데이터에서 시세차이가 2배가 나오나?\n",
    "# 반면 4716 아파트는 모든층에 골고루 분포함을 알 수 있다. 아마 평수에 의존하는게 아닌가 싶다.\n",
    "# 시계열 plot 그려서 한번 봐야겠다.\n",
    "# 그이외에는 층수때문에 가격차이는 나는 것으로 보이지 않음.\n",
    "\n",
    "\n",
    "# month 별 시세 분포 차이는 없는 것으로 보여진다.\n",
    "drop_variable.append('month')\n",
    "\n",
    "# 시점 t\n",
    "Train['t'] = (Train['year'] - 2016)*12 + Train['month']\n",
    "Test['t'] = (Test['year'] - 2016)*12 + Test['month']\n",
    "#시계열 그래프로 봣을때, 증가하는 추세를 보이긴 함.\n",
    "Train.groupby('t',as_index = False)['Y'].mean().corr()\n",
    "#0.778로 상당한 양의 관계인 것을 볼 수 있음 # 2018년도 증가하는 추세를 보일 것으로 보임\n",
    "\n",
    "#floor_level\n",
    "Train.boxplot(column = 'Y', by = ['floor_level','dong_outlier'])\n",
    "#아웃라이어가 있기 때문에 크게 유의미하지는 않을 것으로 보인다. \n",
    "#dong_outlier가 0일 때를 보면 모두 low or middle이고 outlier를 보면 의미있을 것으로 보이지않음\n",
    "#low x dongoutlier 로 나누 어 볼 때 확연한 분포차이가 보임.\n"
   ]
  },
  {
   "cell_type": "markdown",
   "id": "ff945785",
   "metadata": {},
   "source": [
    "#### 독립성 검정"
   ]
  },
  {
   "cell_type": "code",
   "execution_count": 160,
   "id": "8efa2512",
   "metadata": {
    "scrolled": true
   },
   "outputs": [],
   "source": [
    "#'floor_level', 'price_level_gu', 'dong_outlier', 'Seoul'- 사용할 세 변수에 대해서 독립성 검정\n",
    "\n",
    "#'floor_level'\n",
    "low = Train.loc[Train['floor_level'] == 'low', ['floor_level', 'Y']]\n",
    "middle = Train.loc[Train['floor_level'] == 'middle', ['floor_level', 'Y']]\n",
    "high = Train.loc[Train['floor_level'] == 'high', ['floor_level', 'Y']]\n",
    "very_high = Train.loc[Train['floor_level'] == 'very high', ['floor_level', 'Y']]\n",
    "\n",
    "#'price_level_gu'\n",
    "cheap = Train.loc[Train['price_level_gu'] == 'cheap', ['price_level_gu', 'Y']]\n",
    "resonable = Train.loc[Train['price_level_gu'] == 'resonable', ['price_level_gu', 'Y']]\n",
    "expensive = Train.loc[Train['price_level_gu'] == 'expensive', ['price_level_gu', 'Y']]"
   ]
  },
  {
   "cell_type": "code",
   "execution_count": 168,
   "id": "f14b0361",
   "metadata": {
    "scrolled": true
   },
   "outputs": [
    {
     "name": "stdout",
     "output_type": "stream",
     "text": [
      "KstestResult(statistic=1.0, pvalue=0.0)\n",
      "KstestResult(statistic=1.0, pvalue=0.0)\n",
      "KstestResult(statistic=1.0, pvalue=0.0)\n",
      "KstestResult(statistic=1.0, pvalue=0.0)\n"
     ]
    }
   ],
   "source": [
    "# 정규성검정\n",
    "# h0 기각 h1 채택 - 정규성이 있다고 볼 수 있음\n",
    "print(kstest(low['Y'].values, 'norm'))\n",
    "print(kstest(middle['Y'].values, 'norm'))\n",
    "print(kstest(high['Y'].values, 'norm'))\n",
    "print(kstest(very_high['Y'].values, 'norm'))"
   ]
  },
  {
   "cell_type": "code",
   "execution_count": 182,
   "id": "65dffa5d",
   "metadata": {},
   "outputs": [
    {
     "name": "stdout",
     "output_type": "stream",
     "text": [
      "KstestResult(statistic=1.0, pvalue=0.0)\n",
      "KstestResult(statistic=1.0, pvalue=0.0)\n",
      "KstestResult(statistic=1.0, pvalue=0.0)\n"
     ]
    }
   ],
   "source": [
    "# 정규성검정\n",
    "# h0 기각 h1 채택 - 정규성이 있다고 볼 수 있음\n",
    "print(kstest(cheap['Y'].values, 'norm'))\n",
    "print(kstest(resonable['Y'].values, 'norm'))\n",
    "print(kstest(expensive['Y'].values, 'norm'))"
   ]
  },
  {
   "cell_type": "code",
   "execution_count": 170,
   "id": "178c5ca0",
   "metadata": {},
   "outputs": [
    {
     "data": {
      "text/plain": [
       "F_onewayResult(statistic=402.5273799517746, pvalue=8.013444574892058e-256)"
      ]
     },
     "execution_count": 170,
     "metadata": {},
     "output_type": "execute_result"
    }
   ],
   "source": [
    "# oneway anova\n",
    "# h0 기각 h1 채택 -> 최소한 하나의 집단이 다른 분포를 가졌다고 볼 수 있음\n",
    "f_oneway(low['Y'].values,middle['Y'].values,high['Y'].values,very_high['Y'].values)"
   ]
  },
  {
   "cell_type": "code",
   "execution_count": 183,
   "id": "aad708e8",
   "metadata": {},
   "outputs": [
    {
     "data": {
      "text/plain": [
       "F_onewayResult(statistic=27025.729672252324, pvalue=0.0)"
      ]
     },
     "execution_count": 183,
     "metadata": {},
     "output_type": "execute_result"
    }
   ],
   "source": [
    "# oneway anova\n",
    "# h0 기각 h1 채택 -> 최소한 하나의 집단이 다른 분포를 가졌다고 볼 수 있음\n",
    "f_oneway(cheap['Y'].values,resonable['Y'].values,expensive['Y'].values)"
   ]
  },
  {
   "cell_type": "code",
   "execution_count": 178,
   "id": "f045b0bb",
   "metadata": {},
   "outputs": [],
   "source": [
    "del low, middle, high, very_high\n",
    "del cheap, resonable, expensive"
   ]
  },
  {
   "cell_type": "code",
   "execution_count": 173,
   "id": "5630b5c2",
   "metadata": {},
   "outputs": [
    {
     "name": "stdout",
     "output_type": "stream",
     "text": [
      "       Multiple Comparison of Means - Tukey HSD, FWER=0.05       \n",
      "=================================================================\n",
      "group1   group2    meandiff  p-adj    lower       upper    reject\n",
      "-----------------------------------------------------------------\n",
      "  high       low -77967.0925 0.001 -90741.1553 -65193.0297   True\n",
      "  high    middle -41528.1284 0.001 -54690.0883 -28366.1686   True\n",
      "  high very high 119130.8814 0.001  77133.8694 161127.8933   True\n",
      "   low    middle  36438.9641 0.001  33152.8319  39725.0962   True\n",
      "   low very high 197097.9738 0.001 157081.5961 237114.3516   True\n",
      "middle very high 160659.0098 0.001  120517.124 200800.8956   True\n",
      "-----------------------------------------------------------------\n"
     ]
    }
   ],
   "source": [
    "#사후 분석\n",
    "# 모두 h0 기각 모든 floor_level 집단이 다르다고 볼 수 있음.\n",
    "print(pairwise_tukeyhsd(Train['Y'],Train['floor_level']))"
   ]
  },
  {
   "cell_type": "code",
   "execution_count": 185,
   "id": "b742f4c7",
   "metadata": {
    "scrolled": true
   },
   "outputs": [
    {
     "name": "stdout",
     "output_type": "stream",
     "text": [
      "        Multiple Comparison of Means - Tukey HSD, FWER=0.05         \n",
      "====================================================================\n",
      "  group1    group2    meandiff  p-adj    lower       upper    reject\n",
      "--------------------------------------------------------------------\n",
      "    cheap expensive  81646.8525 0.001  80822.5822  82471.1229   True\n",
      "    cheap resonable  24881.1149 0.001   24049.633  25712.5968   True\n",
      "expensive resonable -56765.7377 0.001 -57779.0909 -55752.3844   True\n",
      "--------------------------------------------------------------------\n"
     ]
    }
   ],
   "source": [
    "#사후 분석\n",
    "# 모두 h0 기각 모든 floor_level 집단이 다르다고 볼 수 있음.\n",
    "print(pairwise_tukeyhsd(Train['Y'],Train['price_level_gu']))"
   ]
  },
  {
   "cell_type": "markdown",
   "id": "5bfcc558",
   "metadata": {},
   "source": [
    "#### 상관분석"
   ]
  },
  {
   "cell_type": "code",
   "execution_count": 192,
   "id": "715dd49e",
   "metadata": {
    "scrolled": false
   },
   "outputs": [
    {
     "data": {
      "text/html": [
       "<div>\n",
       "<style scoped>\n",
       "    .dataframe tbody tr th:only-of-type {\n",
       "        vertical-align: middle;\n",
       "    }\n",
       "\n",
       "    .dataframe tbody tr th {\n",
       "        vertical-align: top;\n",
       "    }\n",
       "\n",
       "    .dataframe thead th {\n",
       "        text-align: right;\n",
       "    }\n",
       "</style>\n",
       "<table border=\"1\" class=\"dataframe\">\n",
       "  <thead>\n",
       "    <tr style=\"text-align: right;\">\n",
       "      <th></th>\n",
       "      <th>Y</th>\n",
       "      <th>exclusive_use_area</th>\n",
       "      <th>floor</th>\n",
       "      <th>age</th>\n",
       "      <th>구별_평균_시세</th>\n",
       "      <th>구별_작년_평균_시세</th>\n",
       "      <th>구별_작년_거래량</th>\n",
       "      <th>아파트별_평균_가격</th>\n",
       "    </tr>\n",
       "  </thead>\n",
       "  <tbody>\n",
       "    <tr>\n",
       "      <th>Y</th>\n",
       "      <td>1.000000</td>\n",
       "      <td>0.481075</td>\n",
       "      <td>0.185711</td>\n",
       "      <td>-0.158088</td>\n",
       "      <td>0.875272</td>\n",
       "      <td>0.878844</td>\n",
       "      <td>0.160638</td>\n",
       "      <td>0.934294</td>\n",
       "    </tr>\n",
       "    <tr>\n",
       "      <th>exclusive_use_area</th>\n",
       "      <td>0.481075</td>\n",
       "      <td>1.000000</td>\n",
       "      <td>0.287455</td>\n",
       "      <td>-0.482393</td>\n",
       "      <td>0.216151</td>\n",
       "      <td>0.225576</td>\n",
       "      <td>-0.157152</td>\n",
       "      <td>0.330684</td>\n",
       "    </tr>\n",
       "    <tr>\n",
       "      <th>floor</th>\n",
       "      <td>0.185711</td>\n",
       "      <td>0.287455</td>\n",
       "      <td>1.000000</td>\n",
       "      <td>-0.381263</td>\n",
       "      <td>0.072355</td>\n",
       "      <td>0.074537</td>\n",
       "      <td>0.025817</td>\n",
       "      <td>0.157499</td>\n",
       "    </tr>\n",
       "    <tr>\n",
       "      <th>age</th>\n",
       "      <td>-0.158088</td>\n",
       "      <td>-0.482393</td>\n",
       "      <td>-0.381263</td>\n",
       "      <td>1.000000</td>\n",
       "      <td>-0.079957</td>\n",
       "      <td>-0.087879</td>\n",
       "      <td>0.116546</td>\n",
       "      <td>-0.176818</td>\n",
       "    </tr>\n",
       "    <tr>\n",
       "      <th>구별_평균_시세</th>\n",
       "      <td>0.875272</td>\n",
       "      <td>0.216151</td>\n",
       "      <td>0.072355</td>\n",
       "      <td>-0.079957</td>\n",
       "      <td>1.000000</td>\n",
       "      <td>0.998117</td>\n",
       "      <td>0.190460</td>\n",
       "      <td>0.936712</td>\n",
       "    </tr>\n",
       "    <tr>\n",
       "      <th>구별_작년_평균_시세</th>\n",
       "      <td>0.878844</td>\n",
       "      <td>0.225576</td>\n",
       "      <td>0.074537</td>\n",
       "      <td>-0.087879</td>\n",
       "      <td>0.998117</td>\n",
       "      <td>1.000000</td>\n",
       "      <td>0.166010</td>\n",
       "      <td>0.935744</td>\n",
       "    </tr>\n",
       "    <tr>\n",
       "      <th>구별_작년_거래량</th>\n",
       "      <td>0.160638</td>\n",
       "      <td>-0.157152</td>\n",
       "      <td>0.025817</td>\n",
       "      <td>0.116546</td>\n",
       "      <td>0.190460</td>\n",
       "      <td>0.166010</td>\n",
       "      <td>1.000000</td>\n",
       "      <td>0.176921</td>\n",
       "    </tr>\n",
       "    <tr>\n",
       "      <th>아파트별_평균_가격</th>\n",
       "      <td>0.934294</td>\n",
       "      <td>0.330684</td>\n",
       "      <td>0.157499</td>\n",
       "      <td>-0.176818</td>\n",
       "      <td>0.936712</td>\n",
       "      <td>0.935744</td>\n",
       "      <td>0.176921</td>\n",
       "      <td>1.000000</td>\n",
       "    </tr>\n",
       "  </tbody>\n",
       "</table>\n",
       "</div>"
      ],
      "text/plain": [
       "                           Y  exclusive_use_area     floor       age  \\\n",
       "Y                   1.000000            0.481075  0.185711 -0.158088   \n",
       "exclusive_use_area  0.481075            1.000000  0.287455 -0.482393   \n",
       "floor               0.185711            0.287455  1.000000 -0.381263   \n",
       "age                -0.158088           -0.482393 -0.381263  1.000000   \n",
       "구별_평균_시세            0.875272            0.216151  0.072355 -0.079957   \n",
       "구별_작년_평균_시세         0.878844            0.225576  0.074537 -0.087879   \n",
       "구별_작년_거래량           0.160638           -0.157152  0.025817  0.116546   \n",
       "아파트별_평균_가격          0.934294            0.330684  0.157499 -0.176818   \n",
       "\n",
       "                    구별_평균_시세  구별_작년_평균_시세  구별_작년_거래량  아파트별_평균_가격  \n",
       "Y                   0.875272     0.878844   0.160638    0.934294  \n",
       "exclusive_use_area  0.216151     0.225576  -0.157152    0.330684  \n",
       "floor               0.072355     0.074537   0.025817    0.157499  \n",
       "age                -0.079957    -0.087879   0.116546   -0.176818  \n",
       "구별_평균_시세            1.000000     0.998117   0.190460    0.936712  \n",
       "구별_작년_평균_시세         0.998117     1.000000   0.166010    0.935744  \n",
       "구별_작년_거래량           0.190460     0.166010   1.000000    0.176921  \n",
       "아파트별_평균_가격          0.936712     0.935744   0.176921    1.000000  "
      ]
     },
     "execution_count": 192,
     "metadata": {},
     "output_type": "execute_result"
    }
   ],
   "source": [
    "Train[['Y','exclusive_use_area','floor', 'age', '구별_평균_시세', '구별_작년_평균_시세', '구별_작년_거래량','아파트별_평균_가격']].corr()\n",
    "#강한 상관관계 - exclusive_use_area, 구별_평균_시세, 구별_작년_평균_시세, 아파트별_평균_가격\n",
    "#약한 상관관계 - floor, age\n",
    "#exclusive_use_area는 다른 변수들과 꽤 큰 상관관계를 가지고 있다.\n",
    "#상관관계가 심한 것은 구별_평균_시세//구별_작년_평균시세//아파트별_평균_가격이다.\n",
    "# => 선형 가정을한 모델도 고려해 볼 수 있을 것으로 보인다."
   ]
  },
  {
   "cell_type": "markdown",
   "id": "12b9425a",
   "metadata": {},
   "source": [
    "#### 최종 데이터 전처리"
   ]
  },
  {
   "cell_type": "code",
   "execution_count": 218,
   "id": "668b080c",
   "metadata": {},
   "outputs": [],
   "source": [
    "# X, Y 분리\n",
    "Train_X = Train.drop('Y',axis=1)\n",
    "Test_X = Test.drop('Y',axis=1)"
   ]
  },
  {
   "cell_type": "code",
   "execution_count": 219,
   "id": "3d219ce7",
   "metadata": {},
   "outputs": [],
   "source": [
    "Train_Y = Train['Y']\n",
    "Test_Y = Test['Y']"
   ]
  },
  {
   "cell_type": "code",
   "execution_count": 220,
   "id": "c0c41f23",
   "metadata": {},
   "outputs": [],
   "source": [
    "#사용할 수 없는 변수 / 중복 변수 제거\n",
    "Train_X.drop(['apartment_id','city','jibun','apt','year_of_completion'], axis = 1, inplace= True)\n",
    "Test_X.drop(['apartment_id','city','jibun','apt','year_of_completion'], axis = 1, inplace= True)"
   ]
  },
  {
   "cell_type": "code",
   "execution_count": 221,
   "id": "c6c9cd9f",
   "metadata": {},
   "outputs": [],
   "source": [
    "#data type 변경\n",
    "Train_X = Train_X.astype({'month' : 'object'})\n",
    "Test_X = Test_X.astype({'month' : 'object'})"
   ]
  },
  {
   "cell_type": "code",
   "execution_count": 222,
   "id": "35fbbd49",
   "metadata": {},
   "outputs": [],
   "source": [
    "na_variables = Train_X.columns[Train_X.isnull().sum() > 0]"
   ]
  },
  {
   "cell_type": "code",
   "execution_count": 223,
   "id": "1daaa721",
   "metadata": {},
   "outputs": [],
   "source": [
    "# NA 처리\n",
    "imputer = SimpleImputer()\n",
    "imputer.fit(Train_X[na_variables])\n",
    "Train_X[na_variables] = pd.DataFrame(imputer.transform(Train_X[na_variables]), columns=Train_X[na_variables].columns)\n",
    "Test_X[na_variables] = pd.DataFrame(imputer.transform(Test_X[na_variables]), columns=Train_X[na_variables].columns)"
   ]
  },
  {
   "cell_type": "code",
   "execution_count": 224,
   "id": "f3ef68db",
   "metadata": {},
   "outputs": [],
   "source": [
    "# 범주변수 더미화 \n",
    "\n",
    "#Train_X learning\n",
    "object_variable = Train_X.columns[Train_X.dtypes == 'object']\n",
    "ohe = OneHotEncoder(drop = 'first')\n",
    "one_hot = ohe.fit_transform(Train_X[object_variable]).toarray()\n",
    "one_hot = pd.DataFrame(one_hot, columns = ohe.get_feature_names_out())\n",
    "one_hot.set_index(Train_X.index, inplace = True)\n",
    "Train_X = pd.concat([Train_X,one_hot], axis = 1)\n",
    "Train_X.drop(object_variable, axis = 1, inplace = True)\n",
    "\n",
    "#Test_X learning\n",
    "one_hot = ohe.transform(Test_X[object_variable]).toarray()\n",
    "one_hot = pd.DataFrame(one_hot, columns = ohe.get_feature_names_out())\n",
    "one_hot.set_index(Test_X.index, inplace = True)\n",
    "Test_X = pd.concat([Test_X,one_hot], axis = 1)\n",
    "Test_X.drop(object_variable, axis = 1, inplace = True)"
   ]
  },
  {
   "cell_type": "code",
   "execution_count": 226,
   "id": "9861a22a",
   "metadata": {},
   "outputs": [],
   "source": [
    "### y log 변환\n",
    "Train_Y = np.log(Train_Y)"
   ]
  },
  {
   "cell_type": "code",
   "execution_count": 227,
   "id": "081a78ba",
   "metadata": {},
   "outputs": [],
   "source": [
    "continue_v = ['exclusive_use_area','floor', 'age', '구별_평균_시세', '구별_작년_평균_시세', '구별_작년_거래량','아파트별_평균_가격']"
   ]
  },
  {
   "cell_type": "code",
   "execution_count": 228,
   "id": "b6681637",
   "metadata": {},
   "outputs": [],
   "source": [
    "### Min max scale\n",
    "scaler = MinMaxScaler()\n",
    "scaler.fit(Train_X[continue_v])\n",
    "Train_X[continue_v] = scaler.transform(Train_X[continue_v])\n",
    "Test_X[continue_v] = scaler.transform(Test_X[continue_v])"
   ]
  },
  {
   "cell_type": "code",
   "execution_count": 211,
   "id": "9b76cfba",
   "metadata": {},
   "outputs": [
    {
     "data": {
      "text/plain": [
       "63.259953161592506"
      ]
     },
     "execution_count": 211,
     "metadata": {},
     "output_type": "execute_result"
    }
   ],
   "source": [
    "# 변수 대비 데이터 크기 체크\n",
    "# 27012/136 - 201.58 으로 계수 하나당 201개 정도"
   ]
  },
  {
   "cell_type": "markdown",
   "id": "9b96f916",
   "metadata": {},
   "source": [
    "#### xgb 모델링"
   ]
  },
  {
   "cell_type": "code",
   "execution_count": 42,
   "id": "eb0902d2",
   "metadata": {},
   "outputs": [],
   "source": [
    "model_param = dict()\n",
    "\n",
    "XGB_param = ParameterGrid({'max_depth' : [1,3,6],\n",
    "             'learning_rate' : [0.1,0.3,0.5],\n",
    "             'n_estimators' : [100,200],\n",
    "             'colsample_bytree' : [0.1,0.5,1]})\n",
    "\n",
    "model_param[XGB] = XGB_param"
   ]
  },
  {
   "cell_type": "code",
   "execution_count": 17,
   "id": "ddc7a1b6",
   "metadata": {},
   "outputs": [],
   "source": [
    "max_iter = 0\n",
    "for M in model_param.keys():\n",
    "    for P in model_param[M]:\n",
    "        max_iter+=1"
   ]
  },
  {
   "cell_type": "code",
   "execution_count": null,
   "id": "e88d9d82",
   "metadata": {},
   "outputs": [],
   "source": [
    "best_score = 999999999\n",
    "iter_num = 0\n",
    "for M in model_param.keys():\n",
    "    for P in model_param[M]:\n",
    "        model = M(**P).fit(Train_X.values, Train_Y.values)\n",
    "        pred_Y = model.predict(Test_X)\n",
    "        pred_Y = np.exp(pred_Y)\n",
    "        score = MAE(Test_Y,pred_Y)\n",
    "        \n",
    "        if score < best_score :\n",
    "            best_score = score\n",
    "            best_model = M\n",
    "            best_param = P\n",
    "        iter_num += 1\n",
    "        print(\"iter : {}/{} , model : {}, score : {}, best_score : {}\".format(iter_num,max_iter,\n",
    "                                                                              M,score,best_score))\n"
   ]
  },
  {
   "cell_type": "code",
   "execution_count": 45,
   "id": "8ca42bcd",
   "metadata": {},
   "outputs": [],
   "source": [
    "best_score_1, best_param_1 = best_score, best_param"
   ]
  },
  {
   "cell_type": "code",
   "execution_count": 46,
   "id": "0472d3fb",
   "metadata": {},
   "outputs": [
    {
     "name": "stdout",
     "output_type": "stream",
     "text": [
      "1749.5031822879068 {'colsample_bytree': 1, 'learning_rate': 0.3, 'max_depth': 6, 'n_estimators': 200}\n"
     ]
    }
   ],
   "source": [
    "print(best_score_1, best_param_1)"
   ]
  },
  {
   "cell_type": "code",
   "execution_count": 15,
   "id": "101c9fed",
   "metadata": {},
   "outputs": [],
   "source": [
    "model_param = dict()\n",
    "\n",
    "XGB_param = ParameterGrid({'max_depth' : [6,7,8],\n",
    "             'learning_rate' : [0.1,0.2,0.3],\n",
    "             'n_estimators' : [200,300],\n",
    "             'colsample_bytree' : [1]})\n",
    "\n",
    "model_param[XGB] = XGB_param"
   ]
  },
  {
   "cell_type": "code",
   "execution_count": null,
   "id": "ac08d183",
   "metadata": {},
   "outputs": [],
   "source": [
    "best_score = 99999999\n",
    "iter_num = 0\n",
    "for M in model_param.keys():\n",
    "    for P in model_param[M]:\n",
    "        model = M(**P).fit(Train_X.values, Train_Y.values)\n",
    "        pred_Y = model.predict(Test_X)\n",
    "        pred_Y = np.exp(pred_Y)\n",
    "        score = MAE(Test_Y,pred_Y)\n",
    "        \n",
    "        if score < best_score :\n",
    "            best_score = score\n",
    "            best_model = M\n",
    "            best_param = P\n",
    "        iter_num += 1\n",
    "        print(\"iter : {}/{} , model : {}, score : {}, best_score : {}\".format(iter_num,max_iter,\n",
    "                                                                              M,score,best_score))\n",
    "print(best_score, best_param)"
   ]
  },
  {
   "cell_type": "code",
   "execution_count": 50,
   "id": "76f776ec",
   "metadata": {},
   "outputs": [],
   "source": [
    "best_score_2, best_param_2 = best_score, best_param"
   ]
  },
  {
   "cell_type": "code",
   "execution_count": 51,
   "id": "c19f0b73",
   "metadata": {
    "scrolled": true
   },
   "outputs": [
    {
     "name": "stdout",
     "output_type": "stream",
     "text": [
      "1711.350774709938 {'colsample_bytree': 1, 'learning_rate': 0.1, 'max_depth': 8, 'n_estimators': 300}\n",
      "1749.5031822879068 {'colsample_bytree': 1, 'learning_rate': 0.3, 'max_depth': 6, 'n_estimators': 200}\n"
     ]
    }
   ],
   "source": [
    "print(best_score_2, best_param_2)\n",
    "print(best_score_1, best_param_1)"
   ]
  },
  {
   "cell_type": "code",
   "execution_count": 19,
   "id": "ea5eed55",
   "metadata": {},
   "outputs": [],
   "source": [
    "model_param = dict()\n",
    "\n",
    "LGB_param = ParameterGrid({'max_depth' : [7,8,9],\n",
    "             'learning_rate' : [0.05,0.1,0.2],\n",
    "             'n_estimators' : [300,400],\n",
    "             'colsample_bytree' : [1]})\n",
    "\n",
    "model_param[XGB] = XGB_param"
   ]
  },
  {
   "cell_type": "code",
   "execution_count": null,
   "id": "cf86df4f",
   "metadata": {},
   "outputs": [],
   "source": [
    "best_score = 99999999\n",
    "iter_num = 0\n",
    "for M in model_param.keys():\n",
    "    for P in model_param[M]:\n",
    "        model = M(**P).fit(Train_X.values, Train_Y.values)\n",
    "        pred_Y = model.predict(Test_X)\n",
    "        pred_Y = np.exp(pred_Y)\n",
    "        score = MAE(Test_Y,pred_Y)\n",
    "        \n",
    "        if score < best_score :\n",
    "            best_score = score\n",
    "            best_model = M\n",
    "            best_param = P\n",
    "        iter_num += 1\n",
    "        print(\"iter : {}/{} , model : {}, score : {}, best_score : {}\".format(iter_num,max_iter,\n",
    "                                                                              M,score,best_score))\n",
    "print(best_score, best_param)"
   ]
  },
  {
   "cell_type": "code",
   "execution_count": 54,
   "id": "4593957f",
   "metadata": {},
   "outputs": [],
   "source": [
    "best_score_3, best_param_3 = best_score, best_param"
   ]
  },
  {
   "cell_type": "code",
   "execution_count": 55,
   "id": "fc0a2511",
   "metadata": {},
   "outputs": [
    {
     "name": "stdout",
     "output_type": "stream",
     "text": [
      "1749.5031822879068 {'colsample_bytree': 1, 'learning_rate': 0.3, 'max_depth': 6, 'n_estimators': 200}\n",
      "1711.350774709938 {'colsample_bytree': 1, 'learning_rate': 0.1, 'max_depth': 8, 'n_estimators': 300}\n",
      "1706.4395623971811 {'colsample_bytree': 1, 'learning_rate': 0.05, 'max_depth': 9, 'n_estimators': 400}\n"
     ]
    }
   ],
   "source": [
    "print(best_score_1, best_param_1)\n",
    "print(best_score_2, best_param_2)\n",
    "print(best_score_3, best_param_3) # 너무 오버피팅 쪽으로 가는 것으로 보임."
   ]
  },
  {
   "cell_type": "code",
   "execution_count": 70,
   "id": "f3617f39",
   "metadata": {},
   "outputs": [],
   "source": [
    "model_param = dict()\n",
    "\n",
    "XGB_param = ParameterGrid({'max_depth' : [9,10,11],\n",
    "             'learning_rate' : [0.01,0.05,0.1],\n",
    "             'n_estimators' : [400,500],\n",
    "             'colsample_bytree' : [1]})\n",
    "\n",
    "model_param[XGB] = XGB_param"
   ]
  },
  {
   "cell_type": "code",
   "execution_count": null,
   "id": "0ac77512",
   "metadata": {},
   "outputs": [],
   "source": [
    "best_score = 99999999\n",
    "iter_num = 0\n",
    "for M in model_param.keys():\n",
    "    for P in model_param[M]:\n",
    "        model = M(**P).fit(Train_X.values, Train_Y.values)\n",
    "        pred_Y = model.predict(Test_X)\n",
    "        pred_Y = np.exp(pred_Y)\n",
    "        score = MAE(Test_Y,pred_Y)\n",
    "        \n",
    "        if score < best_score :\n",
    "            best_score = score\n",
    "            best_model = M\n",
    "            best_param = P\n",
    "        iter_num += 1\n",
    "        print(\"iter : {}/{} , model : {}, score : {}, best_score : {}\".format(iter_num,max_iter,\n",
    "                                                                              M,score,best_score))\n",
    "print(best_score, best_param)"
   ]
  },
  {
   "cell_type": "code",
   "execution_count": 21,
   "id": "3f34f304",
   "metadata": {},
   "outputs": [],
   "source": [
    "# 최종 XGBOOST model \n",
    "#1662.110246845586 {'colsample_bytree': 1, 'learning_rate': 0.1, 'max_depth': 8, 'n_estimators': 300}"
   ]
  },
  {
   "cell_type": "markdown",
   "id": "e0d8a060",
   "metadata": {},
   "source": [
    "#### lgb 모델링"
   ]
  },
  {
   "cell_type": "code",
   "execution_count": 22,
   "id": "1f6d0f37",
   "metadata": {},
   "outputs": [],
   "source": [
    "model_param = dict()\n",
    "\n",
    "LGB_param = ParameterGrid({'max_depth' : [1,3,6],\n",
    "             'learning_rate' : [0.1,0.3,0.5],\n",
    "             'n_estimators' : [100,200],\n",
    "             'colsample_bytree' : [0.1,0.5,1]})\n",
    "\n",
    "model_param[LGB] = LGB_param"
   ]
  },
  {
   "cell_type": "code",
   "execution_count": null,
   "id": "4ed84f43",
   "metadata": {},
   "outputs": [],
   "source": [
    "best_score = 99999999\n",
    "iter_num = 0\n",
    "for M in model_param.keys():\n",
    "    for P in model_param[M]:\n",
    "        model = M(**P).fit(Train_X.values, Train_Y.values)\n",
    "        pred_Y = model.predict(Test_X)\n",
    "        pred_Y = np.exp(pred_Y)\n",
    "        score = MAE(Test_Y,pred_Y)\n",
    "        \n",
    "        if score < best_score :\n",
    "            best_score = score\n",
    "            best_model = M\n",
    "            best_param = P\n",
    "        iter_num += 1\n",
    "        print(\"iter : {}/{} , model : {}, score : {}, best_score : {}\".format(iter_num,max_iter,\n",
    "                                                                              M,score,best_score))\n",
    "print(best_score, best_param)"
   ]
  },
  {
   "cell_type": "code",
   "execution_count": 24,
   "id": "39dc5558",
   "metadata": {},
   "outputs": [],
   "source": [
    "LGB_best_score_1, LGB_best_param_1 = best_score, best_param"
   ]
  },
  {
   "cell_type": "code",
   "execution_count": 25,
   "id": "0d9421b2",
   "metadata": {},
   "outputs": [
    {
     "name": "stdout",
     "output_type": "stream",
     "text": [
      "1741.1784157146333 {'colsample_bytree': 1, 'learning_rate': 0.3, 'max_depth': 6, 'n_estimators': 200}\n"
     ]
    }
   ],
   "source": [
    "print(LGB_best_score_1, LGB_best_param_1)"
   ]
  },
  {
   "cell_type": "code",
   "execution_count": 26,
   "id": "7e6daf8c",
   "metadata": {},
   "outputs": [],
   "source": [
    "model_param = dict()\n",
    "\n",
    "LGB_param = ParameterGrid({'max_depth' : [6,7,8],\n",
    "             'learning_rate' : [0.1,0.2,0.3],\n",
    "             'n_estimators' : [200,300],\n",
    "             'colsample_bytree' : [1]})\n",
    "\n",
    "model_param[LGB] = LGB_param"
   ]
  },
  {
   "cell_type": "code",
   "execution_count": null,
   "id": "9ee9da91",
   "metadata": {},
   "outputs": [],
   "source": [
    "best_score = 99999999\n",
    "iter_num = 0\n",
    "for M in model_param.keys():\n",
    "    for P in model_param[M]:\n",
    "        model = M(**P).fit(Train_X.values, Train_Y.values)\n",
    "        pred_Y = model.predict(Test_X)\n",
    "        pred_Y = np.exp(pred_Y)\n",
    "        score = MAE(Test_Y,pred_Y)\n",
    "        \n",
    "        if score < best_score :\n",
    "            best_score = score\n",
    "            best_model = M\n",
    "            best_param = P\n",
    "        iter_num += 1\n",
    "        print(\"iter : {}/{} , model : {}, score : {}, best_score : {}\".format(iter_num,max_iter,\n",
    "                                                                              M,score,best_score))\n",
    "print(best_score, best_param)"
   ]
  },
  {
   "cell_type": "code",
   "execution_count": 28,
   "id": "8f307080",
   "metadata": {},
   "outputs": [],
   "source": [
    "LGB_best_score_2, LGB_best_param_2 = best_score, best_param"
   ]
  },
  {
   "cell_type": "code",
   "execution_count": 29,
   "id": "41b7432c",
   "metadata": {},
   "outputs": [
    {
     "name": "stdout",
     "output_type": "stream",
     "text": [
      "1741.1784157146333 {'colsample_bytree': 1, 'learning_rate': 0.3, 'max_depth': 6, 'n_estimators': 200}\n",
      "1699.2607547039822 {'colsample_bytree': 1, 'learning_rate': 0.2, 'max_depth': 6, 'n_estimators': 300}\n"
     ]
    }
   ],
   "source": [
    "print(LGB_best_score_1, LGB_best_param_1)\n",
    "print(LGB_best_score_2, LGB_best_param_2)"
   ]
  },
  {
   "cell_type": "code",
   "execution_count": 30,
   "id": "3fbb6023",
   "metadata": {},
   "outputs": [],
   "source": [
    "model_param = dict()\n",
    "\n",
    "LGB_param = ParameterGrid({'max_depth' : [8,9,10,11,12],\n",
    "             'learning_rate' : [0.1,0.15,0.2],\n",
    "             'n_estimators' : [300,400],\n",
    "             'colsample_bytree' : [1]})\n",
    "\n",
    "model_param[LGB] = LGB_param"
   ]
  },
  {
   "cell_type": "code",
   "execution_count": null,
   "id": "aa023467",
   "metadata": {},
   "outputs": [],
   "source": [
    "best_score = 99999999\n",
    "iter_num = 0\n",
    "for M in model_param.keys():\n",
    "    for P in model_param[M]:\n",
    "        model = M(**P).fit(Train_X.values, Train_Y.values)\n",
    "        pred_Y = model.predict(Test_X)\n",
    "        pred_Y = np.exp(pred_Y)\n",
    "        score = MAE(Test_Y,pred_Y)\n",
    "        \n",
    "        if score < best_score :\n",
    "            best_score = score\n",
    "            best_model = M\n",
    "            best_param = P\n",
    "        iter_num += 1\n",
    "        print(\"iter : {}/{} , model : {}, score : {}, best_score : {}\".format(iter_num,max_iter,\n",
    "                                                                              M,score,best_score))\n",
    "print(best_score, best_param)"
   ]
  },
  {
   "cell_type": "code",
   "execution_count": 32,
   "id": "3c077ab9",
   "metadata": {},
   "outputs": [],
   "source": [
    "LGB_best_score_3, LGB_best_param_3 = best_score, best_param"
   ]
  },
  {
   "cell_type": "code",
   "execution_count": 33,
   "id": "db950a61",
   "metadata": {},
   "outputs": [
    {
     "name": "stdout",
     "output_type": "stream",
     "text": [
      "1741.1784157146333 {'colsample_bytree': 1, 'learning_rate': 0.3, 'max_depth': 6, 'n_estimators': 200}\n",
      "1699.2607547039822 {'colsample_bytree': 1, 'learning_rate': 0.2, 'max_depth': 6, 'n_estimators': 300}\n",
      "1683.7616180792916 {'colsample_bytree': 1, 'learning_rate': 0.15, 'max_depth': 9, 'n_estimators': 400}\n"
     ]
    }
   ],
   "source": [
    "print(LGB_best_score_1, LGB_best_param_1)\n",
    "print(LGB_best_score_2, LGB_best_param_2)\n",
    "print(LGB_best_score_3, LGB_best_param_3)"
   ]
  },
  {
   "cell_type": "code",
   "execution_count": 34,
   "id": "7d7bce65",
   "metadata": {},
   "outputs": [],
   "source": [
    "model_param = dict()\n",
    "\n",
    "LGB_param = ParameterGrid({'max_depth' : [8],\n",
    "             'learning_rate' : [0.1,0.15,0.2],\n",
    "             'n_estimators' : [300,350,400],\n",
    "             'colsample_bytree' : [1],\n",
    "             'num_leaves' : range(63,31,-1),\n",
    "             'min_child_samples' : [100,300,500,1000]})\n",
    "\n",
    "model_param[LGB] = LGB_param"
   ]
  },
  {
   "cell_type": "code",
   "execution_count": null,
   "id": "25f789f8",
   "metadata": {},
   "outputs": [],
   "source": [
    "best_score = 99999999\n",
    "iter_num = 0\n",
    "for M in model_param.keys():\n",
    "    for P in model_param[M]:\n",
    "        model = M(**P).fit(Train_X.values, Train_Y.values)\n",
    "        pred_Y = model.predict(Test_X)\n",
    "        pred_Y = np.exp(pred_Y)\n",
    "        score = MAE(Test_Y,pred_Y)\n",
    "        \n",
    "        if score < best_score :\n",
    "            best_score = score\n",
    "            best_model = M\n",
    "            best_param = P\n",
    "        iter_num += 1\n",
    "        print(\"iter : {}/{} , model : {}, score : {}, best_score : {}\".format(iter_num,max_iter,\n",
    "                                                                              M,score,best_score))\n",
    "print(best_score, best_param)"
   ]
  },
  {
   "cell_type": "code",
   "execution_count": 36,
   "id": "e65f0776",
   "metadata": {},
   "outputs": [],
   "source": [
    "LGB_best_score_3, LGB_best_param_3 = best_score, best_param"
   ]
  },
  {
   "cell_type": "code",
   "execution_count": 37,
   "id": "7ed88f5e",
   "metadata": {
    "scrolled": true
   },
   "outputs": [
    {
     "name": "stdout",
     "output_type": "stream",
     "text": [
      "1741.1784157146333 {'colsample_bytree': 1, 'learning_rate': 0.3, 'max_depth': 6, 'n_estimators': 200}\n",
      "1699.2607547039822 {'colsample_bytree': 1, 'learning_rate': 0.2, 'max_depth': 6, 'n_estimators': 300}\n",
      "1748.5658105281668 {'colsample_bytree': 1, 'learning_rate': 0.2, 'max_depth': 8, 'min_child_samples': 100, 'n_estimators': 400, 'num_leaves': 49}\n"
     ]
    }
   ],
   "source": [
    "print(LGB_best_score_1, LGB_best_param_1)\n",
    "print(LGB_best_score_2, LGB_best_param_2)\n",
    "print(LGB_best_score_3, LGB_best_param_3)"
   ]
  },
  {
   "cell_type": "code",
   "execution_count": 38,
   "id": "8f8550e8",
   "metadata": {},
   "outputs": [],
   "source": [
    "model_param = dict()\n",
    "\n",
    "LGB_param = ParameterGrid({'max_depth' : [5,6,7],\n",
    "             'learning_rate' : [0.1,0.2,0.3],\n",
    "             'n_estimators' : [250,300,400],\n",
    "             'colsample_bytree' : [1],\n",
    "             'num_leaves' : range(61,29,-1),\n",
    "             'min_child_samples' : [15,20,50,100]})\n",
    "\n",
    "model_param[LGB] = LGB_param\n",
    "\n",
    "max_iter = 0\n",
    "for M in model_param.keys():\n",
    "    for P in model_param[M]:\n",
    "        max_iter+=1"
   ]
  },
  {
   "cell_type": "code",
   "execution_count": null,
   "id": "b5b9cb25",
   "metadata": {},
   "outputs": [],
   "source": [
    "best_score = 99999999\n",
    "iter_num = 0\n",
    "for M in model_param.keys():\n",
    "    for P in model_param[M]:\n",
    "        model = M(**P).fit(Train_X.values, Train_Y.values)\n",
    "        pred_Y = model.predict(Test_X)\n",
    "        pred_Y = np.exp(pred_Y)\n",
    "        score = MAE(Test_Y,pred_Y)\n",
    "        \n",
    "        if score < best_score :\n",
    "            best_score = score\n",
    "            best_model = M\n",
    "            best_param = P\n",
    "        iter_num += 1\n",
    "        print(\"iter : {}/{} , model : {}, score : {}, best_score : {}\".format(iter_num,max_iter,\n",
    "                                                                              M,score,best_score))\n",
    "print(best_score, best_param)"
   ]
  },
  {
   "cell_type": "code",
   "execution_count": 40,
   "id": "9bd85d8b",
   "metadata": {},
   "outputs": [],
   "source": [
    "LGB_best_score_4, LGB_best_param_4 = best_score, best_param"
   ]
  },
  {
   "cell_type": "code",
   "execution_count": 41,
   "id": "c6d609ee",
   "metadata": {},
   "outputs": [
    {
     "name": "stdout",
     "output_type": "stream",
     "text": [
      "1741.1784157146333 {'colsample_bytree': 1, 'learning_rate': 0.3, 'max_depth': 6, 'n_estimators': 200}\n",
      "1699.2607547039822 {'colsample_bytree': 1, 'learning_rate': 0.2, 'max_depth': 6, 'n_estimators': 300}\n",
      "1748.5658105281668 {'colsample_bytree': 1, 'learning_rate': 0.2, 'max_depth': 8, 'min_child_samples': 100, 'n_estimators': 400, 'num_leaves': 49}\n",
      "1667.6442983116056 {'colsample_bytree': 1, 'learning_rate': 0.2, 'max_depth': 7, 'min_child_samples': 15, 'n_estimators': 400, 'num_leaves': 52}\n"
     ]
    }
   ],
   "source": [
    "print(LGB_best_score_1, LGB_best_param_1)\n",
    "print(LGB_best_score_2, LGB_best_param_2)\n",
    "print(LGB_best_score_3, LGB_best_param_3)\n",
    "print(LGB_best_score_4, LGB_best_param_4)"
   ]
  },
  {
   "cell_type": "code",
   "execution_count": 42,
   "id": "ed909f5e",
   "metadata": {},
   "outputs": [],
   "source": [
    "model_param = dict()\n",
    "\n",
    "LGB_param = ParameterGrid({'max_depth' : [6,7,8],\n",
    "             'learning_rate' : [0.01,0.1,0.2],\n",
    "             'n_estimators' : [350,400,500],\n",
    "             'colsample_bytree' : [1],\n",
    "             'num_leaves' : [52,51,50,40,30],\n",
    "             'min_child_samples' : [13,14,15,16]})\n",
    "\n",
    "model_param[LGB] = LGB_param\n",
    "\n",
    "max_iter = 0\n",
    "for M in model_param.keys():\n",
    "    for P in model_param[M]:\n",
    "        max_iter+=1"
   ]
  },
  {
   "cell_type": "code",
   "execution_count": null,
   "id": "f0c6e666",
   "metadata": {},
   "outputs": [],
   "source": [
    "best_score = 99999999\n",
    "iter_num = 0\n",
    "for M in model_param.keys():\n",
    "    for P in model_param[M]:\n",
    "        model = M(**P).fit(Train_X.values, Train_Y.values)\n",
    "        pred_Y = model.predict(Test_X)\n",
    "        pred_Y = np.exp(pred_Y)\n",
    "        score = MAE(Test_Y,pred_Y)\n",
    "        \n",
    "        if score < best_score :\n",
    "            best_score = score\n",
    "            best_model = M\n",
    "            best_param = P\n",
    "        iter_num += 1\n",
    "        print(\"iter : {}/{} , model : {}, score : {}, best_score : {}\".format(iter_num,max_iter,\n",
    "                                                                              M,score,best_score))\n",
    "print(best_score, best_param)"
   ]
  },
  {
   "cell_type": "code",
   "execution_count": 44,
   "id": "82e9a4c0",
   "metadata": {},
   "outputs": [],
   "source": [
    "LGB_best_score_5, LGB_best_param_5 = best_score, best_param"
   ]
  },
  {
   "cell_type": "code",
   "execution_count": 45,
   "id": "ce644e47",
   "metadata": {
    "scrolled": true
   },
   "outputs": [
    {
     "name": "stdout",
     "output_type": "stream",
     "text": [
      "1699.2607547039822 {'colsample_bytree': 1, 'learning_rate': 0.2, 'max_depth': 6, 'n_estimators': 300}\n",
      "1667.6442983116056 {'colsample_bytree': 1, 'learning_rate': 0.2, 'max_depth': 7, 'min_child_samples': 15, 'n_estimators': 400, 'num_leaves': 52}\n",
      "1649.8045005366914 {'colsample_bytree': 1, 'learning_rate': 0.1, 'max_depth': 8, 'min_child_samples': 13, 'n_estimators': 500, 'num_leaves': 50}\n"
     ]
    }
   ],
   "source": [
    "print(LGB_best_score_2, LGB_best_param_2)\n",
    "print(LGB_best_score_4, LGB_best_param_4)\n",
    "print(LGB_best_score_5, LGB_best_param_5) ## LGB 최종모델"
   ]
  },
  {
   "cell_type": "markdown",
   "id": "eeb594de",
   "metadata": {},
   "source": [
    "#### 최종모형 : repeated kfold cv를 통한 score 비교"
   ]
  },
  {
   "cell_type": "code",
   "execution_count": 206,
   "id": "f64e1a3a",
   "metadata": {},
   "outputs": [],
   "source": [
    "# LGB mae : 1649 와 XGB mae : 1662로 비슷하다.\n",
    "LGB_best_model = LGB(colsample_bytree = 1, learning_rate = 0.1, max_depth = 8, min_child_samples = 13,\n",
    "                     n_estimators = 500, num_leaves = 50)\n",
    "XGB_best_model = XGB(colsample_bytree = 1, learning_rate = 0.1, max_depth = 8,\n",
    "                 n_estimators = 300)"
   ]
  },
  {
   "cell_type": "code",
   "execution_count": null,
   "id": "282ce4d3",
   "metadata": {},
   "outputs": [],
   "source": [
    "\n",
    "xgb_validation_mae = []\n",
    "lgb_validation_mae = []\n",
    "iter_ = 0\n",
    "kfold = RepeatedKFold(n_splits=10, n_repeats=10, random_state= 1234)\n",
    "for train_idx, test_idx in kfold.split(Train_X):\n",
    "\n",
    "    x_train, x_test = Train_X.iloc[train_idx,:], Train_X.iloc[test_idx,:] # train, test 으로 분할\n",
    "    y_train, y_test = Train_Y.iloc[train_idx], Train_Y.iloc[test_idx]\n",
    "\n",
    "    y_test = np.exp(y_test) # 다시 본래 scale로\n",
    "\n",
    "    LGB_best_model.fit(x_train,y_train) # train set 학습\n",
    "    XGB_best_model.fit(x_train,y_train)\n",
    "\n",
    "    lgb_pred_y = LGB_best_model.predict(x_test) \n",
    "    xgb_pred_y = XGB_best_model.predict(x_test)\n",
    "\n",
    "    lgb_pred_y = np.exp(lgb_pred_y) # 본랠 scale로\n",
    "    xgb_pred_y = np.exp(xgb_pred_y)\n",
    "\n",
    "    lgb_validation_mae.append(MAE(y_test,lgb_pred_y)) # mae list로 mae 추가\n",
    "    xgb_validation_mae.append(MAE(y_test,xgb_pred_y))\n",
    "    iter_ += 1\n",
    "    print(\"iter : {}/{}\".format(iter_,100))\n",
    "    "
   ]
  },
  {
   "cell_type": "code",
   "execution_count": 101,
   "id": "1c8ede71",
   "metadata": {},
   "outputs": [
    {
     "name": "stdout",
     "output_type": "stream",
     "text": [
      "1747.679141227636\n",
      "1744.1504242682681\n"
     ]
    }
   ],
   "source": [
    "print(np.array(xgb_validation_mae).mean())\n",
    "print(np.array(lgb_validation_mae).mean()) # lgb 모형이 미세하게 앞선다.\n",
    "# 최종 lgb 모형 선택"
   ]
  },
  {
   "cell_type": "code",
   "execution_count": null,
   "id": "4831075a",
   "metadata": {},
   "outputs": [],
   "source": [
    "# model 재통합\n",
    "df_X  = pd.concat([Train_X,Test_X], axis = 0)\n",
    "\n",
    "# log scale로 변환 후 통합\n",
    "Test_Y = np.log(Test_Y)\n",
    "df_Y = pd.concat([Train_Y,Test_Y], axis = 0)"
   ]
  },
  {
   "cell_type": "code",
   "execution_count": 132,
   "id": "f638450c",
   "metadata": {},
   "outputs": [],
   "source": [
    "#최종모형 학습\n",
    "final_model = LGB(colsample_bytree = 1, learning_rate = 0.1, max_depth = 8, min_child_samples = 13,\n",
    "                     n_estimators = 500, num_leaves = 50).fit(df_X,df_Y)"
   ]
  },
  {
   "cell_type": "markdown",
   "id": "2ad47bfb",
   "metadata": {},
   "source": [
    "#### 파이프라인"
   ]
  },
  {
   "cell_type": "code",
   "execution_count": 189,
   "id": "05979287",
   "metadata": {},
   "outputs": [],
   "source": [
    "def pipline(X, city_dong_unique, floor_level, mean_price_per_gu, price_level_gu,\n",
    "            mean_price_per_gu_year, num_park_per_dong, num_facility_per_dong, day_care_per_gu,\n",
    "            mean_per_dong, imputer, ohe, continue_v, scaler, final_model):\n",
    "    \n",
    "    # X - pd.DataFrame\n",
    "    \n",
    "    #### 변수생성 ####\n",
    "    \n",
    "    ## df관련\n",
    "    \n",
    "    # 변수, 범주명 변환\n",
    "    X.drop(['transaction_id', 'addr_kr'], axis = 1, inplace = True)\n",
    "    X.loc[X['dong'] == '정관읍 용수리','dong'] = '정관읍'\n",
    "    \n",
    "    ## ref_df 관련\n",
    "    \n",
    "    # 구변수 부착\n",
    "    X = X.merge(city_dong_unique, how = 'left',on = ['city','dong'])\n",
    "\n",
    "    # transaction_year_month 로 year, month 데이터 생성\n",
    "    X['year'] = pd.to_datetime(X['transaction_year_month'], format = \"%Y%m\").dt.year\n",
    "    X['month'] = pd.to_datetime(X['transaction_year_month'], format = \"%Y%m\").dt.month\n",
    "    X.drop(['transaction_year_month'], axis = 1, inplace = True)\n",
    "\n",
    "    # year of completion 으로 아파트별 age 변수 생성\n",
    "    X['age'] = X['year'] - X['year_of_completion']\n",
    "\n",
    "    # floor 평균 가격에 근거하여 floor level 변수 생성\n",
    "    X['floor_level'] = X['floor'].apply(floor_level)\n",
    "    \n",
    "    #구별 전체 평균 시세\n",
    "    X = X.merge(mean_price_per_gu, how = 'left', on = ['city','gu'])\n",
    "\n",
    "    #구별 가격 차이 범주\n",
    "    X = X.merge(price_level_gu, how = 'left', on = ['city', 'gu'])\n",
    "    \n",
    "    #구별 작년 평균 시세, 구별 작년 거래량 변수\n",
    "    X = X.merge(mean_price_per_gu_year, how = 'left', on = ['city','gu','year'])\n",
    "    \n",
    "    #아파트별_평균가격 변수\n",
    "    X = X.merge(mean_price_per_apt, on = 'apartment_id')\n",
    "    \n",
    "    ## park_df 관련\n",
    "    \n",
    "    # 동별 공원 개수\n",
    "    X = X.merge(num_park_per_dong,how='left', on = ['city','gu','dong'])\n",
    "    \n",
    "    # 동별 facility 개수 \n",
    "    X = X.merge(num_facility_per_dong,how = 'left', on = ['city','gu','dong'])\n",
    "    \n",
    "    #결측치 처리 -> 새로 붙인 것에 만약 결측이라면 시설이 없다는 것이다. nan -> 0\n",
    "    X['num_park'].fillna(0,inplace=True)\n",
    "    X['park_exercise_facility'].fillna(0,inplace=True)\n",
    "    X['park_entertainment_facility'].fillna(0,inplace=True)\n",
    "    X['park_benefit_facility'].fillna(0,inplace=True)\n",
    "    X['park_cultural_facitiy'].fillna(0,inplace=True)\n",
    "    X['park_facility_other'].fillna(0,inplace=True)\n",
    "    \n",
    "    ## day_care_center_df 관련\n",
    "    \n",
    "    # 구별 유형별 어린이집 수 / 어린이집 정원 수\n",
    "    X = X.merge(day_care_per_gu,how = 'left', on = ['city','gu'])\n",
    "    \n",
    "    #### end ####\n",
    "    #### EDA 후 생성 변수 ####\n",
    "    \n",
    "    # city\n",
    "    X['Seoul'] = (X['city'] == '서울특별시').astype(int)\n",
    "    \n",
    "    #dong_outlier(동별 평균 시세 outlier 이진변수)부착\n",
    "    X = X.merge(mean_per_dong, how = 'left', on = ['city','gu','dong'])\n",
    "\n",
    "    #t\n",
    "    X['t'] = (X['year'] - 2016)*12 + X['month']\n",
    "    \n",
    "    #### 변수생성 끝 ####\n",
    "    \n",
    "    #### 변수 전처리 ####\n",
    "    \n",
    "    # feature\n",
    "    feature = X\n",
    "\n",
    "    #사용할지 못하는 변수 제거\n",
    "    feature.drop(['apartment_id','city','jibun','apt','year_of_completion'], axis = 1, inplace= True)\n",
    "\n",
    "    #data type 변경\n",
    "    feature = feature.astype({'month' : 'object'})\n",
    "    \n",
    "    #na 처리\n",
    "    na_variables = feature.columns[feature.isnull().sum() > 0]\n",
    "    feature[na_variables] = pd.DataFrame(imputer.transform(feature[na_variables]), columns=feature[na_variables].columns)\n",
    "    \n",
    "    #one hot encoding\n",
    "    object_variable = feature.columns[feature.dtypes == 'object']\n",
    "    one_hot = ohe.transform(feature[object_variable]).toarray()\n",
    "    one_hot = pd.DataFrame(one_hot, columns = ohe.get_feature_names_out())\n",
    "    one_hot.set_index(feature.index, inplace = True)\n",
    "    feature = pd.concat([feature,one_hot], axis = 1)\n",
    "    feature.drop(object_variable, axis = 1, inplace = True)\n",
    "    \n",
    "    ### Min max scale\n",
    "    feature[continue_v] = scaler.transform(feature[continue_v])\n",
    "    \n",
    "    #### 변수 전처리 끝 ####\n",
    "    \n",
    "    #### 예측 값 ####\n",
    "    \n",
    "    return final_model.predict(feature)\n",
    "\n",
    "    \n",
    "import pickle\n",
    "pipline_param = {'city_dong_unique' : city_dong_unique,\n",
    "                 'floor_level' : floor_level,\n",
    "                 'mean_price_per_gu' : mean_price_per_gu,\n",
    "                 'gu_price_level' : gu_price_level,\n",
    "                 'price_level_gu' : price_level_gu,\n",
    "                 'mean_price_per_gu_year' : mean_price_per_gu_year,\n",
    "                 'num_park_per_dong' : num_park_per_dong,\n",
    "                 'num_facility_per_dong' : num_facility_per_dong,\n",
    "                 'day_care_per_gu' : day_care_per_gu,\n",
    "                 'mean_per_dong' : mean_per_dong,\n",
    "                 'imputer' : imputer,\n",
    "                 'ohe' : ohe,\n",
    "                 'continue_v' : continue_v,\n",
    "                 'scaler' : scaler,\n",
    "                 'final_model' : final_model,\n",
    "                 'pipline' : pipline\n",
    "                }\n"
   ]
  },
  {
   "cell_type": "markdown",
   "id": "b815e664",
   "metadata": {},
   "source": [
    "#### 시각화"
   ]
  },
  {
   "cell_type": "code",
   "execution_count": 94,
   "id": "4cfba306",
   "metadata": {
    "scrolled": true
   },
   "outputs": [
    {
     "data": {
      "image/png": "[encoded data removed]",
      "text/plain": [
       "<Figure size 1080x360 with 1 Axes>"
      ]
     },
     "metadata": {
      "needs_background": "light"
     },
     "output_type": "display_data"
    }
   ],
   "source": [
    "# floor 별 가격 평균 가격 bar plot\n",
    "df.groupby('floor')['Y'].mean().plot(kind = 'bar')\n",
    "plt.show()\n",
    "# 나이브하게 1~25 / 26 ~ 51 / 52 ~ 71 / 71 ~ 로 나눌 수 있어 보임."
   ]
  },
  {
   "cell_type": "code",
   "execution_count": 98,
   "id": "a4218c85",
   "metadata": {},
   "outputs": [
    {
     "data": {
      "image/png": "[encoded data removed]",
      "text/plain": [
       "<Figure size 1080x360 with 1 Axes>"
      ]
     },
     "metadata": {
      "needs_background": "light"
     },
     "output_type": "display_data"
    }
   ],
   "source": [
    "# floor 별 가격 박스 플랏\n",
    "df.boxplot(column= 'Y', by = 'floor_level')\n",
    "plt.show()\n",
    "# 4개의 level의 가격 분포의 중심은 명확히 차이가 나 보인다.\n",
    "# low level의 outlier가 매우 많다. -> 낮아도 비싼 아파트는 비싼 가격임을 알 수 있다.\n",
    "# -> 이는 지역적 특성을 갖을 확율이 높아 보인다.\n",
    "# 높은 층을 가진 아파트는 비싼 아파트일 것이다."
   ]
  },
  {
   "cell_type": "code",
   "execution_count": 109,
   "id": "08fefb3d",
   "metadata": {},
   "outputs": [
    {
     "data": {
      "image/png": "[encoded data removed]",
      "text/plain": [
       "<Figure size 1080x360 with 1 Axes>"
      ]
     },
     "metadata": {
      "needs_background": "light"
     },
     "output_type": "display_data"
    }
   ],
   "source": [
    "# 구별 평균 시세 - 평균 : 49,633\n",
    "mean_price_per_gu['Y'].plot(kind = 'bar', c)\n",
    "plt.show()\n",
    "# 27, 13, 24 번 구의 가격이 다른 구에 비해 높음을 알수있다.\n",
    "# 평균보다 낮은 구, 평균보다 높은 구, outlier 구 세가지고 범주화 가능해 보인다."
   ]
  },
  {
   "cell_type": "code",
   "execution_count": 113,
   "id": "1fdeab47",
   "metadata": {},
   "outputs": [
    {
     "data": {
      "image/png": "[encoded data removed]",
      "text/plain": [
       "<Figure size 1080x360 with 1 Axes>"
      ]
     },
     "metadata": {
      "needs_background": "light"
     },
     "output_type": "display_data"
    }
   ],
   "source": [
    "# 구별 평균의 박스 플랏 \n",
    "plt.boxplot(mean_price_per_gu['Y'])\n",
    "plt.show()\n",
    "#매우 높은 27,13,24는 outlier로 따로 범주화 한다."
   ]
  },
  {
   "cell_type": "code",
   "execution_count": 373,
   "id": "6e7089aa",
   "metadata": {},
   "outputs": [
    {
     "data": {
      "image/png": "[encoded data removed]",
      "text/plain": [
       "<Figure size 1080x360 with 1 Axes>"
      ]
     },
     "metadata": {
      "needs_background": "light"
     },
     "output_type": "display_data"
    }
   ],
   "source": [
    "# 서울부산 박스플롯\n",
    "Train.boxplot(column='Y', by = 'city')\n",
    "plt.show()"
   ]
  },
  {
   "cell_type": "code",
   "execution_count": 194,
   "id": "33f41d2e",
   "metadata": {
    "scrolled": true
   },
   "outputs": [
    {
     "data": {
      "text/plain": [
       "count     27012.000000\n",
       "mean      53250.530542\n",
       "std       39218.600719\n",
       "min        6500.000000\n",
       "25%       26400.000000\n",
       "50%       42000.000000\n",
       "75%       65000.000000\n",
       "max      379840.000000\n",
       "Name: Y, dtype: float64"
      ]
     },
     "execution_count": 194,
     "metadata": {},
     "output_type": "execute_result"
    }
   ],
   "source": [
    "Train_Y.describe()"
   ]
  },
  {
   "cell_type": "code",
   "execution_count": null,
   "id": "bdb53c53",
   "metadata": {},
   "outputs": [],
   "source": []
  }
 ],
 "metadata": {
  "kernelspec": {
   "display_name": "Python 3 (ipykernel)",
   "language": "python",
   "name": "python3"
  },
  "language_info": {
   "codemirror_mode": {
    "name": "ipython",
    "version": 3
   },
   "file_extension": ".py",
   "mimetype": "text/x-python",
   "name": "python",
   "nbconvert_exporter": "python",
   "pygments_lexer": "ipython3",
   "version": "3.9.7"
  }
 },
 "nbformat": 4,
 "nbformat_minor": 5
}
